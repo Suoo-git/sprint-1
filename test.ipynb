{
 "cells": [
  {
   "cell_type": "code",
   "execution_count": 180,
   "metadata": {},
   "outputs": [],
   "source": [
    "import numpy as np\n",
    "import pandas as pd\n",
    "import matplotlib.pyplot as plt\n",
    "\n",
    "df1_2020 = pd.read_csv('data/1. 한국전력공사_전기차 충전소 충전량(단위kWh)\\한국전력공사_전기차충전소충전량(202001_202006).csv', encoding='cp949')\n",
    "df2_2020 = pd.read_csv('data/1. 한국전력공사_전기차 충전소 충전량(단위kWh)\\한국전력공사_전기차충전소충전량(202007_202012).csv', encoding='cp949')\n",
    "df1_2021 = pd.read_csv('data/1. 한국전력공사_전기차 충전소 충전량(단위kWh)\\한국전력공사_전기차충전소충전량(202101_202106).csv', encoding='cp949')\n",
    "df2_2021 = pd.read_csv('data/1. 한국전력공사_전기차 충전소 충전량(단위kWh)\\한국전력공사_전기차충전소충전량(202107_202112).csv', encoding='cp949')\n"
   ]
  },
  {
   "cell_type": "code",
   "execution_count": 181,
   "metadata": {},
   "outputs": [],
   "source": [
    "# 전기차 충전소 충전량 광주광역시만 추출 및 연도별로 합치기\n",
    "# 2020.01.01 ~ 2020.12.03   /   2021.01.01 ~ 2021.10.17\n",
    "df1_2020 = df1_2020[df1_2020['주소'].str.contains('광주광역시', na=False)]\n",
    "df2_2020 = df2_2020[df2_2020['주소'].str.contains('광주광역시', na=False)]\n",
    "df1_2021 = df1_2021[df1_2021['주소'].str.contains('광주광역시', na=False)]\n",
    "df2_2021 = df2_2021[df2_2021['주소'].str.contains('광주광역시', na=False)]\n",
    "\n",
    "df_2020 = pd.concat([df1_2020, df2_2020])\n",
    "df_2021 = pd.concat([df1_2021, df2_2021])\n",
    "\n",
    "# # 년도별로 csv 파일 생성\n",
    "# df_2020.to_csv(\"data/1. 한국전력공사_전기차 충전소 충전량(단위kWh)/광주광역시_전기차충전소충전량(2020).csv\", encoding='utf-8-sig')\n",
    "# df_2021.to_csv(\"data/1. 한국전력공사_전기차 충전소 충전량(단위kWh)/광주광역시_전기차충전소충전량(2021).csv\", encoding='utf-8-sig')"
   ]
  },
  {
   "cell_type": "code",
   "execution_count": 182,
   "metadata": {},
   "outputs": [],
   "source": [
    "# 충전소 위치를 '구'로 구분\n",
    "df_2020['지역(구)'] = df_2020['주소'].str.split(' ').str[1]"
   ]
  },
  {
   "cell_type": "code",
   "execution_count": 183,
   "metadata": {},
   "outputs": [
    {
     "data": {
      "text/plain": [
       "array(['남구', '광산구', '동구', '북구', '서구'], dtype=object)"
      ]
     },
     "execution_count": 183,
     "metadata": {},
     "output_type": "execute_result"
    }
   ],
   "source": [
    "# 각 '구'별 총 충전량\n",
    "sum = df_2020.groupby('지역(구)')['충전량'].sum()\n",
    "df_2020['지역(구)'].unique()\n",
    "# sum"
   ]
  },
  {
   "cell_type": "code",
   "execution_count": 184,
   "metadata": {},
   "outputs": [
    {
     "data": {
      "image/png": "[encoded data removed]",
      "text/plain": [
       "<Figure size 640x480 with 1 Axes>"
      ]
     },
     "metadata": {},
     "output_type": "display_data"
    }
   ],
   "source": [
    "# plt 한글 깨짐 오류\n",
    "import matplotlib\n",
    "matplotlib.rcParams['font.family'] ='Malgun Gothic'\n",
    "matplotlib.rcParams['axes.unicode_minus'] =False\n",
    "\n",
    "# 구별 충선소 충전량 합계 막대그래프\n",
    "plt.bar(sorted(df_2020['지역(구)'].unique()), sum)\n",
    "plt.title(\"구별 2020년 충전소 충전량 합계\")\n",
    "plt.show()"
   ]
  },
  {
   "cell_type": "code",
   "execution_count": 185,
   "metadata": {},
   "outputs": [],
   "source": [
    "# 주소에서 '동' 추출\n",
    "df_2020['지역(동)'] = df_2020['주소'].str.split('(').str[1].str.split(',').str[0].str.replace(')','', regex=True)"
   ]
  },
  {
   "cell_type": "code",
   "execution_count": null,
   "metadata": {},
   "outputs": [],
   "source": [
    "# 동 추출시 Nan, 금남로4가로 잘못분류된 데이터가 확인됨\n",
    "df_2020['지역(동)'].unique() \n",
    "\n",
    "# '금남로4가'로 분류된 데이터는 모두 한곳의 장소임을 확인\n",
    "df_2020[df_2020['지역(동)'] == '금남로4가']['주소'].unique()\n",
    "## 주소의 동이 아닌 '금남로4가'는 '충장동'으로 변경\n",
    "df_2020['지역(동)'] = df_2020['지역(동)'].replace('금남로4가', '충장동')"
   ]
  },
  {
   "cell_type": "code",
   "execution_count": null,
   "metadata": {},
   "outputs": [],
   "source": [
    "# '동'이 Nan으로 분류된 데이터는 1472건으로 확인\n",
    "df_2020['지역(동)'].isna().value_counts()\n",
    "# 원인은 주소에 '동'이 적혀있지 않음\n",
    "df_2020[df_2020['주소'].str.contains('\\(') == False]\n",
    "df_2020[df_2020['지역(동)'].isna()]\n"
   ]
  },
  {
   "cell_type": "code",
   "execution_count": 233,
   "metadata": {},
   "outputs": [],
   "source": [
    "# '월' 열 만들기\n",
    "df_2020['월'] = df_2020['충전종료일자'].str.split('-').str[1]"
   ]
  },
  {
   "cell_type": "code",
   "execution_count": null,
   "metadata": {},
   "outputs": [],
   "source": [
    "# NaN이 아닌 이상치 데이터 확인(새로 추가한 열은 제외)\n",
    "for col in df_2020.iloc[:, :-3].columns:\n",
    "    value = df_2020.iloc[:, :-3][col].unique()\n",
    "    print(f\"{col} : {value}\")"
   ]
  }
 ],
 "metadata": {
  "kernelspec": {
   "display_name": "base",
   "language": "python",
   "name": "python3"
  },
  "language_info": {
   "codemirror_mode": {
    "name": "ipython",
    "version": 3
   },
   "file_extension": ".py",
   "mimetype": "text/x-python",
   "name": "python",
   "nbconvert_exporter": "python",
   "pygments_lexer": "ipython3",
   "version": "3.9.13"
  },
  "orig_nbformat": 4,
  "vscode": {
   "interpreter": {
    "hash": "ad2bdc8ecc057115af97d19610ffacc2b4e99fae6737bb82f5d7fb13d2f2c186"
   }
  }
 },
 "nbformat": 4,
 "nbformat_minor": 2
}
